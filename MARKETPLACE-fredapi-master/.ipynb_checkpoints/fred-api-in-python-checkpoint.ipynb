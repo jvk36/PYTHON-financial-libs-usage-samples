{
 "cells": [
  {
   "cell_type": "code",
   "execution_count": 4,
   "metadata": {},
   "outputs": [],
   "source": [
    "import json\n",
    "import pandas as pd\n",
    "import matplotlib.pyplot as plt\n",
    "import requests\n"
   ]
  },
  {
   "cell_type": "code",
   "execution_count": 3,
   "metadata": {},
   "outputs": [],
   "source": [
    "# Load the secret api key\n",
    "with open('secrets_file.json', 'r') as f:\n",
    "    secrets = json.load(f)\n",
    "\n",
    "api_key = secrets['api_key'] # you can hardcode your value here if you want"
   ]
  },
  {
   "cell_type": "code",
   "execution_count": 27,
   "metadata": {},
   "outputs": [],
   "source": [
    "# class that will interact with the FRED API\n",
    "\n",
    "class FredPy:\n",
    "\n",
    "    def __init__(self, token=None):\n",
    "        self.token = token\n",
    "        self.url = \"https://api.stlouisfed.org/fred/series/observations\" + \\\n",
    "                    \"?series_id={seriesID}&api_key={key}&file_type=json\" + \\\n",
    "                    \"&observation_start={start}&observation_end={end}&units={units}\"\n",
    "\n",
    "    def set_token(self, token):\n",
    "        self.token = token\n",
    "\n",
    "\n",
    "    def get_series(self, seriesID, start, end, units):\n",
    "\n",
    "        # The URL string with the values inserted into it\n",
    "        url_formatted = self.url.format(\n",
    "            seriesID=seriesID, start=start, end=end, units=units, key=self.token\n",
    "        )\n",
    "\n",
    "        response = requests.get(url_formatted)\n",
    "\n",
    "        if(self.token):\n",
    "            # If the response was successful, extract the data from it\n",
    "            if(response.status_code == 200):\n",
    "                data = pd.DataFrame(response.json()['observations'])[['date', 'value']]\\\n",
    "                        .assign(date = lambda cols: pd.to_datetime(cols['date']))\\\n",
    "                        .assign(value = lambda cols: cols['value'].astype(float))\\\n",
    "                        .rename(columns = {'value': seriesID})\n",
    "\n",
    "                return data\n",
    "\n",
    "            else:\n",
    "                raise Exception(\"Bad response from API, status code = {}\".format(response.status_code))\n",
    "        else:\n",
    "            raise Exception(\"You did not specify an API key.\")\n",
    "\n",
    "\n",
    "\n",
    "\n",
    "\n"
   ]
  },
  {
   "cell_type": "code",
   "execution_count": 28,
   "metadata": {},
   "outputs": [],
   "source": [
    "# Instantiate fredpy object\n",
    "fredpy = FredPy()\n",
    "\n",
    "# Set the API key\n",
    "fredpy.set_token(api_key)\n",
    "\n",
    "# Test getting the GDP series\n",
    "data = fredpy.get_series(\n",
    "    seriesID = 'GDP', \n",
    "    start = '2005-01-01',\n",
    "    end = '2021-12-01', \n",
    "    units = 'pc1'\n",
    ")\n"
   ]
  },
  {
   "cell_type": "code",
   "execution_count": 29,
   "metadata": {},
   "outputs": [
    {
     "data": {
      "text/html": [
       "<div>\n",
       "<style scoped>\n",
       "    .dataframe tbody tr th:only-of-type {\n",
       "        vertical-align: middle;\n",
       "    }\n",
       "\n",
       "    .dataframe tbody tr th {\n",
       "        vertical-align: top;\n",
       "    }\n",
       "\n",
       "    .dataframe thead th {\n",
       "        text-align: right;\n",
       "    }\n",
       "</style>\n",
       "<table border=\"1\" class=\"dataframe\">\n",
       "  <thead>\n",
       "    <tr style=\"text-align: right;\">\n",
       "      <th></th>\n",
       "      <th>date</th>\n",
       "      <th>GDP</th>\n",
       "    </tr>\n",
       "  </thead>\n",
       "  <tbody>\n",
       "    <tr>\n",
       "      <th>0</th>\n",
       "      <td>2005-01-01</td>\n",
       "      <td>7.07714</td>\n",
       "    </tr>\n",
       "    <tr>\n",
       "      <th>1</th>\n",
       "      <td>2005-04-01</td>\n",
       "      <td>6.68582</td>\n",
       "    </tr>\n",
       "    <tr>\n",
       "      <th>2</th>\n",
       "      <td>2005-07-01</td>\n",
       "      <td>6.80467</td>\n",
       "    </tr>\n",
       "    <tr>\n",
       "      <th>3</th>\n",
       "      <td>2005-10-01</td>\n",
       "      <td>6.36207</td>\n",
       "    </tr>\n",
       "    <tr>\n",
       "      <th>4</th>\n",
       "      <td>2006-01-01</td>\n",
       "      <td>6.51567</td>\n",
       "    </tr>\n",
       "    <tr>\n",
       "      <th>...</th>\n",
       "      <td>...</td>\n",
       "      <td>...</td>\n",
       "    </tr>\n",
       "    <tr>\n",
       "      <th>63</th>\n",
       "      <td>2020-10-01</td>\n",
       "      <td>-0.99961</td>\n",
       "    </tr>\n",
       "    <tr>\n",
       "      <th>64</th>\n",
       "      <td>2021-01-01</td>\n",
       "      <td>2.59229</td>\n",
       "    </tr>\n",
       "    <tr>\n",
       "      <th>65</th>\n",
       "      <td>2021-04-01</td>\n",
       "      <td>16.75536</td>\n",
       "    </tr>\n",
       "    <tr>\n",
       "      <th>66</th>\n",
       "      <td>2021-07-01</td>\n",
       "      <td>9.76305</td>\n",
       "    </tr>\n",
       "    <tr>\n",
       "      <th>67</th>\n",
       "      <td>2021-10-01</td>\n",
       "      <td>11.70875</td>\n",
       "    </tr>\n",
       "  </tbody>\n",
       "</table>\n",
       "<p>68 rows × 2 columns</p>\n",
       "</div>"
      ],
      "text/plain": [
       "         date       GDP\n",
       "0  2005-01-01   7.07714\n",
       "1  2005-04-01   6.68582\n",
       "2  2005-07-01   6.80467\n",
       "3  2005-10-01   6.36207\n",
       "4  2006-01-01   6.51567\n",
       "..        ...       ...\n",
       "63 2020-10-01  -0.99961\n",
       "64 2021-01-01   2.59229\n",
       "65 2021-04-01  16.75536\n",
       "66 2021-07-01   9.76305\n",
       "67 2021-10-01  11.70875\n",
       "\n",
       "[68 rows x 2 columns]"
      ]
     },
     "execution_count": 29,
     "metadata": {},
     "output_type": "execute_result"
    }
   ],
   "source": [
    "data"
   ]
  },
  {
   "cell_type": "code",
   "execution_count": 31,
   "metadata": {},
   "outputs": [],
   "source": [
    "# Let's get the unemployment rate data\n",
    "unemployment_data = fredpy.get_series(\n",
    "    seriesID=\"UNRATE\", \n",
    "    start = '2005-01-01',\n",
    "    end = '2021-12-01', \n",
    "    units = 'lin'\n",
    ")"
   ]
  },
  {
   "cell_type": "code",
   "execution_count": 34,
   "metadata": {},
   "outputs": [
    {
     "data": {
      "image/png": "[encoded data removed]",
      "text/plain": [
       "<Figure size 864x504 with 1 Axes>"
      ]
     },
     "metadata": {
      "needs_background": "light"
     },
     "output_type": "display_data"
    }
   ],
   "source": [
    "# visualize the series\n",
    "plt.figure(figsize = (12, 7))\n",
    "plt.plot(data['date'], data['GDP'], label=\"GDP\")\n",
    "plt.plot(unemployment_data['date'], unemployment_data['UNRATE'], label=\"Unemployment Rate\")\n",
    "plt.legend()\n",
    "plt.title(\"Data from FRED API\")\n",
    "plt.show()"
   ]
  },
  {
   "cell_type": "code",
   "execution_count": null,
   "metadata": {},
   "outputs": [],
   "source": []
  }
 ],
 "metadata": {
  "interpreter": {
   "hash": "bd0a811177f88b25c20d9aed4485dff0d4774806d7b7c03f94aff7bef6964692"
  },
  "kernelspec": {
   "display_name": "Python 3",
   "language": "python",
   "name": "python3"
  },
  "language_info": {
   "codemirror_mode": {
    "name": "ipython",
    "version": 3
   },
   "file_extension": ".py",
   "mimetype": "text/x-python",
   "name": "python",
   "nbconvert_exporter": "python",
   "pygments_lexer": "ipython3",
   "version": "3.8.3"
  }
 },
 "nbformat": 4,
 "nbformat_minor": 2
}
